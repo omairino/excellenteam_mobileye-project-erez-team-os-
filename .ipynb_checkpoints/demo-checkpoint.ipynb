{
 "cells": [
  {
   "cell_type": "markdown",
   "metadata": {},
   "source": [
    "# Introduction to TSR distance estimation"
   ]
  },
  {
   "cell_type": "code",
   "execution_count": null,
   "metadata": {},
   "outputs": [],
   "source": [
    "from __future__ import print_function, division\n",
    "import pandas as pd\n",
    "from meye import MEImage\n",
    "%pylab inline\n",
    "plt.rcParams['image.cmap'] = 'gray'"
   ]
  },
  {
   "cell_type": "markdown",
   "metadata": {},
   "source": [
    "## Reading the database\n"
   ]
  },
  {
   "cell_type": "code",
   "execution_count": null,
   "metadata": {},
   "outputs": [],
   "source": [
    "df = pd.read_pickle(\"store.pickle\")\n",
    "df.head()"
   ]
  },
  {
   "cell_type": "code",
   "execution_count": null,
   "metadata": {},
   "outputs": [],
   "source": [
    "import matplotlib.patches as patches\n",
    "path = df.iloc[1].prevImage\n",
    "rect = df.iloc[1].prevRect\n",
    "path1 = df.iloc[1].currImage\n",
    "rect1 = df.iloc[1].currRect\n",
    "egoMotion = df.egoMotion[1][:3,:3]\n",
    "tegomotion =df.egoMotion[1][:3,3:]\n",
    "\n",
    "images = MEImage.from_file(path)\n",
    "\n",
    "plt.imshow(images.im,cmap='gray',origin='lower')\n",
    "\n",
    "print(rect)\n",
    "\n",
    "rectH = patches.Rectangle(rect[::2],rect[1]-rect[0],rect[3]-rect[2],linewidth=1,edgecolor='r',facecolor='none')\n",
    "gca().add_patch(rectH)"
   ]
  },
  {
   "cell_type": "code",
   "execution_count": null,
   "metadata": {},
   "outputs": [],
   "source": [
    "images = MEImage.from_file(path)\n",
    "print(rect)\n",
    "simage = images.im[rect[2]:rect[3],rect[0]:rect[1]]\n",
    "plt.imshow(simage,cmap='gray',origin='lower')\n"
   ]
  },
  {
   "cell_type": "code",
   "execution_count": null,
   "metadata": {},
   "outputs": [],
   "source": [
    "print(simage.shape)\n",
    "sobel_kernelx = np.array([[-1, 0, 1], [-2, 0, 2], [-1, 0, 1]])/8\n",
    "sobel_kernely = np.array([[1, 2, 1], [0, 0, 0], [-1, -2, -1]])/8\n",
    "from scipy import signal as sg\n",
    "from scipy.ndimage.filters import maximum_filter,gaussian_filter\n",
    "ix = sg.convolve2d(simage, sobel_kernelx, \"same\") \n",
    "iy = sg.convolve2d(simage, sobel_kernely, \"same\") \n",
    "\n",
    "iy2 = iy**2\n",
    "ix2 = ix**2\n",
    "ixy = ix*iy\n"
   ]
  },
  {
   "cell_type": "code",
   "execution_count": null,
   "metadata": {},
   "outputs": [],
   "source": [
    "h , w = simage.shape\n",
    "r = np.zeros((h, w))\n",
    "result =np.zeros((h,w))\n",
    "rmax = 0 \n",
    "sx2 = sg.convolve2d(ix2, np.ones((7,7)), \"same\") \n",
    "sy2 = sg.convolve2d(iy2, np.ones((7,7)), \"same\") \n",
    "sxy = sg.convolve2d(ixy, np.ones((7,7)), \"same\") \n",
    "for i in range(h):\n",
    "        for j in range(w):\n",
    "            m = np.array([[sx2[i, j], sxy[i, j]], [sxy[i, j], sy2[i, j]]], dtype=np.float64)\n",
    "            r[i, j] = 2*np.linalg.det(m)/ np.trace(m)\n",
    "            if r[i,j] > rmax:\n",
    "                rmax = r[i, j]\n",
    "for i in range(h - 1):\n",
    "        for j in range(w - 1):\n",
    "            if   r[i, j] > rmax * 0.01 and r[i, j] > r[i - 1, j - 1] and r[i, j] > r[i, j + 1] and r[i, j] > r[i + 1, j] and r[i, j] > r[i - 1, j] and r[i, j] > r[i, j - 1]and r[i, j] > r[i - 1, j + 1] and r[i, j] > r[i + 1, j - 1] and r[i, j] > r[i + 1, j + 1]:\n",
    "                result[i, j] = 1\n",
    "result = np.transpose(result)\n",
    "pc, pr = np.where(result == 1)\n",
    "plt.imshow(simage,cmap='gray',origin='lower')\n",
    "plt.plot(pc,pr, 'r',linestyle=\"None\", marker=\"o\", markersize=2)\n",
    "print(pc,pr)\n",
    "X1 = w\n",
    "Y1 = h"
   ]
  },
  {
   "cell_type": "code",
   "execution_count": null,
   "metadata": {},
   "outputs": [],
   "source": [
    "images = MEImage.from_file(path1)\n",
    "\n",
    "plt.imshow(images.im,cmap='gray',origin='lower')\n",
    "\n",
    "print(rect1)\n",
    "\n",
    "recte = patches.Rectangle(rect1[::2],rect1[1]-rect1[0],rect1[3]-rect1[2],linewidth=1,edgecolor='r',facecolor='none')\n",
    "gca().add_patch(recte)"
   ]
  },
  {
   "cell_type": "code",
   "execution_count": null,
   "metadata": {},
   "outputs": [],
   "source": [
    "images = MEImage.from_file(path1)\n",
    "\n",
    "\n",
    "# plt.plot(*image.origin[::-1], marker='+', markersize=10, color=\"red\n",
    "print(rect1)\n",
    "\n",
    "simage = images.im[rect1[2]:rect1[3],rect1[0]:rect1[1]]\n",
    "plt.imshow(simage,cmap='gray',origin='lower')"
   ]
  },
  {
   "cell_type": "code",
   "execution_count": null,
   "metadata": {},
   "outputs": [],
   "source": [
    "print(simage.shape)\n",
    "sobel_kernelx = np.array([[-1, 0, 1], [-2, 0, 2], [-1, 0, 1]])/8\n",
    "sobel_kernely = np.array([[1, 2, 1], [0, 0, 0], [-1, -2, -1]])/8\n",
    "from scipy import signal as sg\n",
    "from scipy.ndimage.filters import maximum_filter,gaussian_filter\n",
    "ix = sg.convolve2d(simage, sobel_kernelx, \"same\") \n",
    "iy = sg.convolve2d(simage, sobel_kernely, \"same\") \n",
    "\n",
    "iy2 = iy**2\n",
    "ix2 = ix**2\n",
    "ixy = ix*iy\n",
    "sobel_kernely"
   ]
  },
  {
   "cell_type": "code",
   "execution_count": null,
   "metadata": {},
   "outputs": [],
   "source": [
    "h , w = simage.shape\n",
    "\n",
    "r = np.zeros((h, w))\n",
    "result =np.zeros((h, w))\n",
    "rmax = 0 \n",
    "sx2 = sg.convolve2d(ix2, np.ones((5,5)), \"same\") \n",
    "sy2 = sg.convolve2d(iy2, np.ones((5,5)), \"same\") \n",
    "sxy = sg.convolve2d(ixy, np.ones((5,5)), \"same\") \n",
    "for i in range(h):\n",
    "        for j in range(w):\n",
    "            m = np.array([[sx2[i, j], sxy[i, j]], [sxy[i, j], sy2[i, j]]], dtype=np.float64)\n",
    "            r[i, j] = 2*np.linalg.det(m)/ np.trace(m)\n",
    "            if r[i,j] > rmax:\n",
    "                rmax = r[i, j]\n",
    "for i in range(h - 1):\n",
    "        for j in range(w - 1):\n",
    "            if   r[i, j] > rmax * 0.01 and r[i, j] > r[i - 1, j - 1] and r[i, j] > r[i, j + 1] and r[i, j] > r[i + 1, j] and r[i, j] > r[i - 1, j] and r[i, j] > r[i, j - 1]and r[i, j] > r[i - 1, j + 1] and r[i, j] > r[i + 1, j - 1] and r[i, j] > r[i + 1, j + 1]:\n",
    "                result[i, j] = 1\n",
    "result = np.transpose(result)\n",
    "pc1, pr1 = np.where(result == 1)\n",
    "plt.imshow(simage,cmap='gray',origin='lower')\n",
    "plt.plot(pc1,pr1, 'r',linestyle=\"None\", marker=\"o\", markersize=2)\n",
    "print(pc1,pr1)\n",
    "X2 = w\n",
    "Y2 = h"
   ]
  },
  {
   "cell_type": "code",
   "execution_count": null,
   "metadata": {},
   "outputs": [],
   "source": [
    "\n",
    "xes = pc\n",
    "yes =  pr\n",
    "xes1 = pc1\n",
    "yes1 =  pr1\n",
    "maching = []\n",
    "for x,y in zip(xes,yes):\n",
    "    difx = format(x/X1 , '.1f')\n",
    "    dify = format(y/Y1 , '.1f')\n",
    "    for x1,y1 in zip(xes1,yes1):\n",
    "        difx1 =  format(x1/X2 , '.1f')\n",
    "        dify1 =  format(y1/Y2 , '.1f')\n",
    "        if difx == difx1 and dify == dify1:\n",
    "            maching.append((x,y,x1,y1))\n",
    "            \n"
   ]
  },
  {
   "cell_type": "code",
   "execution_count": null,
   "metadata": {},
   "outputs": [],
   "source": [
    "mz = 0 \n",
    "image = MEImage.from_file(path)\n",
    "o1,o2 = image.origin\n",
    "print(o1,o2)\n",
    "for x in maching:\n",
    "    xprev = x[0] + rect[0] - o1\n",
    "    yprev = x[1] + rect[2] - o2\n",
    "    xcurr = x[2] + rect1[0] - o1\n",
    "    ycurr = x[3] +  rect1[2] - o2\n",
    "    pcruunt= np.dot(egoMotion,[xprev,yprev, df.focal[0]]) \n",
    "    ex = df.focal[0]*tegomotion[0]/tegomotion[2]\n",
    "    z = (tegomotion[2]*( df.focal[0]*pcruunt[0]/pcruunt[2] - ex))/(df.focal[0]*pcruunt[0]/pcruunt[2] - xcurr)\n",
    "    mz+=z\n",
    "\n",
    "    \n",
    "mz/len(maching)"
   ]
  },
  {
   "cell_type": "code",
   "execution_count": null,
   "metadata": {},
   "outputs": [],
   "source": [
    "z = (tegomotion[2]*( df.focal[0]*pcruunt[0]/pcruunt[2] - ex))/(df.focal[0]*pcruunt[0]/pcruunt[2] - xcurr)\n",
    "z"
   ]
  }
 ],
 "metadata": {
  "kernelspec": {
   "display_name": "Python 3",
   "language": "python",
   "name": "python3"
  },
  "language_info": {
   "codemirror_mode": {
    "name": "ipython",
    "version": 3
   },
   "file_extension": ".py",
   "mimetype": "text/x-python",
   "name": "python",
   "nbconvert_exporter": "python",
   "pygments_lexer": "ipython3",
   "version": "3.7.0"
  }
 },
 "nbformat": 4,
 "nbformat_minor": 2
}
